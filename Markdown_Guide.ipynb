{
  "cells": [
    {
      "cell_type": "markdown",
      "metadata": {
        "id": "view-in-github",
        "colab_type": "text"
      },
      "source": [
        "<a href=\"https://colab.research.google.com/github/Jitusrit/snake/blob/main/Markdown_Guide.ipynb\" target=\"_parent\"><img src=\"https://colab.research.google.com/assets/colab-badge.svg\" alt=\"Open In Colab\"/></a>"
      ]
    },
    {
      "cell_type": "code",
      "source": [],
      "metadata": {
        "id": "gqJe36GX0H4v"
      },
      "execution_count": null,
      "outputs": []
    },
    {
      "cell_type": "code",
      "source": [
        "# To print\n",
        "print(\"Welcome to EMC 5103 lab\")\n",
        "# Define a list\n",
        "mylist=[2,3,'MTech']\n",
        "\n",
        "# To Append anyiother element into a list\n",
        "mylist.append('EMC5103')\n",
        "\n",
        "# You want to add at spcific place\n",
        "mylist.insert(0,13)\n",
        "\n",
        "# To Delete item from the list\n",
        "del mylist [4]\n",
        "\n",
        "# Empty this list\n",
        "mylist.clear()\n"
      ],
      "metadata": {
        "colab": {
          "base_uri": "https://localhost:8080/"
        },
        "id": "am6YdNJP0JJ8",
        "outputId": "bccb50b3-8f3f-40a5-f725-4ebca763d82f"
      },
      "execution_count": 13,
      "outputs": [
        {
          "output_type": "stream",
          "name": "stdout",
          "text": [
            "Welcome to EMC 5103 lab\n",
            "[]\n"
          ]
        }
      ]
    },
    {
      "cell_type": "code",
      "source": [
        "# To take input from the use\n",
        "a=input('Enter your choice')\n",
        "print(f\"your choice is {a}\")\n",
        "\n",
        "b=input(\"Enter your choice\")\n",
        "a=int(a)\n",
        "b=int(b)\n",
        "\n",
        "print(f'sum of the two numbers {a} and {b} is {a+b}')\n",
        "print(f'substraction of the two numbers {a} and {b} is {a-b}')\n",
        "print(f'multiplication of the two numbers {a} and {b} is {a*b}')\n",
        "print(f'Division of the two numbers {a} and {b} is {a/b}')\n",
        "print(f'Modulas when {b} devides {a} is {a%b}')"
      ],
      "metadata": {
        "colab": {
          "base_uri": "https://localhost:8080/"
        },
        "id": "5I6OrdXO3hFo",
        "outputId": "2368dade-8a0d-45ba-a9a5-661b3dd96b65"
      },
      "execution_count": 18,
      "outputs": [
        {
          "output_type": "stream",
          "name": "stdout",
          "text": [
            "Enter your choice5\n",
            "your choice is 5\n",
            "Enter your choice5\n",
            "sum of the two numbers 5 and 5 is 10\n",
            "substraction of the two numbers 5 and 5 is 0\n",
            "multiplication of the two numbers 5 and 5 is 25\n",
            "Division of the two numbers 5 and 5 is 1.0\n",
            "Modulas when 5 devides 5 is 0\n"
          ]
        }
      ]
    },
    {
      "cell_type": "code",
      "source": [
        "# To sorting a list\n",
        "a=[2,3,76,44,9,3]\n",
        "a.sort() #Accending order\n",
        "print(f\"THe sorted list is {a}\")\n",
        "\n",
        "# Descending order\n",
        "b=[32,3,5,65,7,8,8,]\n",
        "b.sort(reverse=True)\n",
        "print(f\"THe sorted list is {b}\")"
      ],
      "metadata": {
        "colab": {
          "base_uri": "https://localhost:8080/"
        },
        "id": "KHAqnMn1623-",
        "outputId": "4c88ddb8-ce0e-4034-8571-ae9250778bf1"
      },
      "execution_count": 23,
      "outputs": [
        {
          "output_type": "stream",
          "name": "stdout",
          "text": [
            "THe sorted list is [2, 3, 3, 9, 44, 76]\n",
            "THe sorted list is [65, 32, 8, 8, 7, 5, 3]\n"
          ]
        }
      ]
    },
    {
      "cell_type": "code",
      "source": [
        "astring1=\"Hello\"\n",
        "astring2=\"Sir\"\n",
        "print(astring1 + astring2)\n",
        "print(astring1*2)\n",
        "print(astring2[2:4])\n",
        "print(astring2.index('i'))\n",
        "print(astring1.count('l'))\n",
        "print(astring1.upper())\n",
        "print(astring1.lower())\n",
        "print(astring1[::-1])"
      ],
      "metadata": {
        "colab": {
          "base_uri": "https://localhost:8080/"
        },
        "id": "L2n-QZ4H8L-p",
        "outputId": "df30dd63-884a-4ad4-910f-4245be694145"
      },
      "execution_count": 33,
      "outputs": [
        {
          "output_type": "stream",
          "name": "stdout",
          "text": [
            "HelloSir\n",
            "HelloHello\n",
            "r\n",
            "1\n",
            "2\n",
            "HELLO\n",
            "hello\n",
            "olleH\n"
          ]
        }
      ]
    },
    {
      "cell_type": "code",
      "source": [
        "#Statement\n",
        "a=input('Enter your choice')\n",
        "a=int(a)\n",
        "if a%2==0:\n",
        "  print(f'The number is even {a}')\n",
        "else:\n",
        "  print(f'The number is odd {a}')\n"
      ],
      "metadata": {
        "colab": {
          "base_uri": "https://localhost:8080/"
        },
        "id": "ZUIywFlp_Cop",
        "outputId": "c10f688f-fae8-4c91-dcf1-7259dfbd60ed"
      },
      "execution_count": 35,
      "outputs": [
        {
          "output_type": "stream",
          "name": "stdout",
          "text": [
            "Enter your choice5843568466\n",
            "The number is even 5843568466\n"
          ]
        }
      ]
    },
    {
      "cell_type": "code",
      "source": [
        "for i in range (1,11):\n",
        "   print(i)"
      ],
      "metadata": {
        "colab": {
          "base_uri": "https://localhost:8080/"
        },
        "id": "BKmIx0qE__Qd",
        "outputId": "2293e14f-0631-4f7d-95dd-9ad21130b595"
      },
      "execution_count": 40,
      "outputs": [
        {
          "output_type": "stream",
          "name": "stdout",
          "text": [
            "1\n",
            "2\n",
            "3\n",
            "4\n",
            "5\n",
            "6\n",
            "7\n",
            "8\n",
            "9\n",
            "10\n"
          ]
        }
      ]
    },
    {
      "cell_type": "code",
      "source": [
        "def sum_two_num(a,b):\n",
        "  sum=a+b\n",
        "  return sum"
      ],
      "metadata": {
        "id": "sAGT2JVOB_Sr"
      },
      "execution_count": null,
      "outputs": []
    },
    {
      "cell_type": "code",
      "source": [
        "sum_two_num(19,1)"
      ],
      "metadata": {
        "colab": {
          "base_uri": "https://localhost:8080/"
        },
        "id": "7PUxH8rJCBfj",
        "outputId": "f4944b4d-3e2e-46bf-d21a-a7b6d4861d82"
      },
      "execution_count": 42,
      "outputs": [
        {
          "output_type": "execute_result",
          "data": {
            "text/plain": [
              "20"
            ]
          },
          "metadata": {},
          "execution_count": 42
        }
      ]
    },
    {
      "cell_type": "markdown",
      "metadata": {
        "id": "uSx6SUb1Komv"
      },
      "source": [
        "## Useful references"
      ]
    },
    {
      "cell_type": "markdown",
      "metadata": {
        "id": "5Y3CStVkLxqt"
      },
      "source": [
        "* [GitHub Markdown basics](https://help.github.com/articles/markdown-basics/)\n",
        "* [GitHub flavored Markdown](https://help.github.com/articles/github-flavored-markdown/)\n",
        "* [Original Markdown spec: Syntax](http://daringfireball.net/projects/markdown/syntax)\n",
        "* [Original Markdown spec: Basics](http://daringfireball.net/projects/markdown/basics)\n",
        "* [marked.js library used by Colab](https://github.com/chjj/marked)\n",
        "* [LaTex mathematics for equations](https://en.wikibooks.org/wiki/LaTeX/Mathematics)"
      ]
    }
  ],
  "metadata": {
    "colab": {
      "name": "Markdown Guide",
      "provenance": [],
      "include_colab_link": true
    },
    "kernelspec": {
      "display_name": "Python 3",
      "name": "python3"
    }
  },
  "nbformat": 4,
  "nbformat_minor": 0
}